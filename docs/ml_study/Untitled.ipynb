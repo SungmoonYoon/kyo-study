{
 "cells": [
  {
   "cell_type": "code",
   "execution_count": 12,
   "metadata": {
    "collapsed": false
   },
   "outputs": [],
   "source": [
    "import os\n",
    "f_list = os.listdir('./')[2:-1]"
   ]
  },
  {
   "cell_type": "code",
   "execution_count": 13,
   "metadata": {
    "collapsed": false
   },
   "outputs": [
    {
     "data": {
      "text/plain": [
       "['chapter02',\n",
       " 'chapter03',\n",
       " 'chapter04',\n",
       " 'chapter05',\n",
       " 'chapter08',\n",
       " 'chapter09',\n",
       " 'chapter10']"
      ]
     },
     "execution_count": 13,
     "metadata": {},
     "output_type": "execute_result"
    }
   ],
   "source": [
    "f_list"
   ]
  },
  {
   "cell_type": "code",
   "execution_count": 14,
   "metadata": {
    "collapsed": true
   },
   "outputs": [],
   "source": [
    "md_list = os.listdir(f_list[0]+'/')"
   ]
  },
  {
   "cell_type": "code",
   "execution_count": 15,
   "metadata": {
    "collapsed": false
   },
   "outputs": [
    {
     "data": {
      "text/plain": [
       "['0.md', '1.md', '2.md', '3_1.md', '3_2.md', '3_3.md', '4.md', '5.md']"
      ]
     },
     "execution_count": 15,
     "metadata": {},
     "output_type": "execute_result"
    }
   ],
   "source": [
    "md_list"
   ]
  },
  {
   "cell_type": "code",
   "execution_count": 42,
   "metadata": {
    "collapsed": false
   },
   "outputs": [],
   "source": [
    "f = open(f_list[0]+'/'+md_list[1],'r')\n",
    "asd = f.read().replace('/images','/images/ml_study')"
   ]
  },
  {
   "cell_type": "code",
   "execution_count": 45,
   "metadata": {
    "collapsed": false
   },
   "outputs": [
    {
     "data": {
      "text/plain": [
       "'chapter10'"
      ]
     },
     "execution_count": 45,
     "metadata": {},
     "output_type": "execute_result"
    }
   ],
   "source": [
    "i"
   ]
  },
  {
   "cell_type": "code",
   "execution_count": 46,
   "metadata": {
    "collapsed": false
   },
   "outputs": [
    {
     "data": {
      "text/plain": [
       "['0.md', '1.md', '2.md']"
      ]
     },
     "execution_count": 46,
     "metadata": {},
     "output_type": "execute_result"
    }
   ],
   "source": [
    "md_list"
   ]
  },
  {
   "cell_type": "code",
   "execution_count": 47,
   "metadata": {
    "collapsed": true
   },
   "outputs": [],
   "source": [
    "f_list = os.listdir('./')[1:-1]"
   ]
  },
  {
   "cell_type": "code",
   "execution_count": 48,
   "metadata": {
    "collapsed": false
   },
   "outputs": [
    {
     "data": {
      "text/plain": [
       "['chapter01',\n",
       " 'chapter02',\n",
       " 'chapter03',\n",
       " 'chapter04',\n",
       " 'chapter05',\n",
       " 'chapter08',\n",
       " 'chapter09',\n",
       " 'chapter10']"
      ]
     },
     "execution_count": 48,
     "metadata": {},
     "output_type": "execute_result"
    }
   ],
   "source": [
    "f_list"
   ]
  },
  {
   "cell_type": "code",
   "execution_count": 50,
   "metadata": {
    "collapsed": false
   },
   "outputs": [
    {
     "data": {
      "text/plain": [
       "['0.md',\n",
       " '1.md',\n",
       " '2.md',\n",
       " '3.md',\n",
       " '3_1.md',\n",
       " '3_2.md',\n",
       " '3_3.md',\n",
       " '4.md',\n",
       " '5.md',\n",
       " '6.md',\n",
       " '7.md']"
      ]
     },
     "execution_count": 50,
     "metadata": {},
     "output_type": "execute_result"
    }
   ],
   "source": [
    "os.listdir(f_list[1]+'/')"
   ]
  },
  {
   "cell_type": "code",
   "execution_count": 53,
   "metadata": {
    "collapsed": false
   },
   "outputs": [
    {
     "data": {
      "text/plain": [
       "'0.md'"
      ]
     },
     "execution_count": 53,
     "metadata": {},
     "output_type": "execute_result"
    }
   ],
   "source": [
    "md_list[0]"
   ]
  },
  {
   "cell_type": "code",
   "execution_count": 54,
   "metadata": {
    "collapsed": false
   },
   "outputs": [],
   "source": [
    "f_list = os.listdir('./')[1:-1]\n",
    "for i in f_list:\n",
    "    md_list = os.listdir(i+'/')\n",
    "    for j in md_list:\n",
    "        f = open(i+'/'+j,'r')\n",
    "        asd = f.read().replace('/images','/images/ml_study')\n",
    "        with open(i+'/'+j,'w') as w_file:\n",
    "            w_file.write(asd)\n"
   ]
  },
  {
   "cell_type": "code",
   "execution_count": 44,
   "metadata": {
    "collapsed": false
   },
   "outputs": [],
   "source": [
    "f_list = os.listdir('./')[1:-1]\n",
    "for i in f_list:\n",
    "    md_list = os.listdir(i+'/')\n",
    "    for j in range(len(md_list)):\n",
    "        f = open(i+'/'+md_list[j],'r')\n",
    "        asd = f.read().replace('/images','/images/ml_study')\n",
    "        with open(i+'/'+str(j)+'.md','w') as w_file:\n",
    "            w_file.write(asd)\n"
   ]
  }
 ],
 "metadata": {
  "kernelspec": {
   "display_name": "Python 2",
   "language": "python",
   "name": "python2"
  },
  "language_info": {
   "codemirror_mode": {
    "name": "ipython",
    "version": 2
   },
   "file_extension": ".py",
   "mimetype": "text/x-python",
   "name": "python",
   "nbconvert_exporter": "python",
   "pygments_lexer": "ipython2",
   "version": "2.7.11"
  }
 },
 "nbformat": 4,
 "nbformat_minor": 0
}
